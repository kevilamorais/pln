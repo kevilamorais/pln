{
  "nbformat": 4,
  "nbformat_minor": 0,
  "metadata": {
    "colab": {
      "provenance": [],
      "authorship_tag": "ABX9TyPChXq9yqvNcFoasVbFwiW6",
      "include_colab_link": true
    },
    "kernelspec": {
      "name": "python3",
      "display_name": "Python 3"
    },
    "language_info": {
      "name": "python"
    }
  },
  "cells": [
    {
      "cell_type": "markdown",
      "metadata": {
        "id": "view-in-github",
        "colab_type": "text"
      },
      "source": [
        "<a href=\"https://colab.research.google.com/github/kevilamorais/pln/blob/main/Reconhecimento_de_Emo%C3%A7%C3%B5es_em_Tweets.ipynb\" target=\"_parent\"><img src=\"https://colab.research.google.com/assets/colab-badge.svg\" alt=\"Open In Colab\"/></a>"
      ]
    },
    {
      "cell_type": "code",
      "execution_count": null,
      "metadata": {
        "id": "yUbRYaiA7n6i"
      },
      "outputs": [],
      "source": [
        "import pandas as pd\n",
        "\n",
        "df = pd.read_pickle(\"merged_training.pkl\")"
      ]
    },
    {
      "cell_type": "code",
      "source": [
        "type(df)"
      ],
      "metadata": {
        "colab": {
          "base_uri": "https://localhost:8080/"
        },
        "id": "PHnOzYvC7zpL",
        "outputId": "86b84e60-81d2-4deb-8954-a782cb526eaa"
      },
      "execution_count": null,
      "outputs": [
        {
          "output_type": "execute_result",
          "data": {
            "text/plain": [
              "pandas.core.frame.DataFrame"
            ]
          },
          "metadata": {},
          "execution_count": 7
        }
      ]
    },
    {
      "cell_type": "code",
      "source": [
        "df.head()"
      ],
      "metadata": {
        "colab": {
          "base_uri": "https://localhost:8080/",
          "height": 206
        },
        "id": "PcxjB2jL91d0",
        "outputId": "d80c921d-c522-46e4-bb33-261c0b57480d"
      },
      "execution_count": null,
      "outputs": [
        {
          "output_type": "execute_result",
          "data": {
            "text/plain": [
              "                                                     text emotions\n",
              "27383   i feel awful about it too because it s my job ...  sadness\n",
              "110083                              im alone i feel awful  sadness\n",
              "140764  ive probably mentioned this before but i reall...      joy\n",
              "100071           i was feeling a little low few days back  sadness\n",
              "2837    i beleive that i am much more sensitive to oth...     love"
            ],
            "text/html": [
              "\n",
              "  <div id=\"df-f0c7ccfb-c4c4-4911-8b75-75d73cbe9e8e\">\n",
              "    <div class=\"colab-df-container\">\n",
              "      <div>\n",
              "<style scoped>\n",
              "    .dataframe tbody tr th:only-of-type {\n",
              "        vertical-align: middle;\n",
              "    }\n",
              "\n",
              "    .dataframe tbody tr th {\n",
              "        vertical-align: top;\n",
              "    }\n",
              "\n",
              "    .dataframe thead th {\n",
              "        text-align: right;\n",
              "    }\n",
              "</style>\n",
              "<table border=\"1\" class=\"dataframe\">\n",
              "  <thead>\n",
              "    <tr style=\"text-align: right;\">\n",
              "      <th></th>\n",
              "      <th>text</th>\n",
              "      <th>emotions</th>\n",
              "    </tr>\n",
              "  </thead>\n",
              "  <tbody>\n",
              "    <tr>\n",
              "      <th>27383</th>\n",
              "      <td>i feel awful about it too because it s my job ...</td>\n",
              "      <td>sadness</td>\n",
              "    </tr>\n",
              "    <tr>\n",
              "      <th>110083</th>\n",
              "      <td>im alone i feel awful</td>\n",
              "      <td>sadness</td>\n",
              "    </tr>\n",
              "    <tr>\n",
              "      <th>140764</th>\n",
              "      <td>ive probably mentioned this before but i reall...</td>\n",
              "      <td>joy</td>\n",
              "    </tr>\n",
              "    <tr>\n",
              "      <th>100071</th>\n",
              "      <td>i was feeling a little low few days back</td>\n",
              "      <td>sadness</td>\n",
              "    </tr>\n",
              "    <tr>\n",
              "      <th>2837</th>\n",
              "      <td>i beleive that i am much more sensitive to oth...</td>\n",
              "      <td>love</td>\n",
              "    </tr>\n",
              "  </tbody>\n",
              "</table>\n",
              "</div>\n",
              "      <button class=\"colab-df-convert\" onclick=\"convertToInteractive('df-f0c7ccfb-c4c4-4911-8b75-75d73cbe9e8e')\"\n",
              "              title=\"Convert this dataframe to an interactive table.\"\n",
              "              style=\"display:none;\">\n",
              "        \n",
              "  <svg xmlns=\"http://www.w3.org/2000/svg\" height=\"24px\"viewBox=\"0 0 24 24\"\n",
              "       width=\"24px\">\n",
              "    <path d=\"M0 0h24v24H0V0z\" fill=\"none\"/>\n",
              "    <path d=\"M18.56 5.44l.94 2.06.94-2.06 2.06-.94-2.06-.94-.94-2.06-.94 2.06-2.06.94zm-11 1L8.5 8.5l.94-2.06 2.06-.94-2.06-.94L8.5 2.5l-.94 2.06-2.06.94zm10 10l.94 2.06.94-2.06 2.06-.94-2.06-.94-.94-2.06-.94 2.06-2.06.94z\"/><path d=\"M17.41 7.96l-1.37-1.37c-.4-.4-.92-.59-1.43-.59-.52 0-1.04.2-1.43.59L10.3 9.45l-7.72 7.72c-.78.78-.78 2.05 0 2.83L4 21.41c.39.39.9.59 1.41.59.51 0 1.02-.2 1.41-.59l7.78-7.78 2.81-2.81c.8-.78.8-2.07 0-2.86zM5.41 20L4 18.59l7.72-7.72 1.47 1.35L5.41 20z\"/>\n",
              "  </svg>\n",
              "      </button>\n",
              "      \n",
              "  <style>\n",
              "    .colab-df-container {\n",
              "      display:flex;\n",
              "      flex-wrap:wrap;\n",
              "      gap: 12px;\n",
              "    }\n",
              "\n",
              "    .colab-df-convert {\n",
              "      background-color: #E8F0FE;\n",
              "      border: none;\n",
              "      border-radius: 50%;\n",
              "      cursor: pointer;\n",
              "      display: none;\n",
              "      fill: #1967D2;\n",
              "      height: 32px;\n",
              "      padding: 0 0 0 0;\n",
              "      width: 32px;\n",
              "    }\n",
              "\n",
              "    .colab-df-convert:hover {\n",
              "      background-color: #E2EBFA;\n",
              "      box-shadow: 0px 1px 2px rgba(60, 64, 67, 0.3), 0px 1px 3px 1px rgba(60, 64, 67, 0.15);\n",
              "      fill: #174EA6;\n",
              "    }\n",
              "\n",
              "    [theme=dark] .colab-df-convert {\n",
              "      background-color: #3B4455;\n",
              "      fill: #D2E3FC;\n",
              "    }\n",
              "\n",
              "    [theme=dark] .colab-df-convert:hover {\n",
              "      background-color: #434B5C;\n",
              "      box-shadow: 0px 1px 3px 1px rgba(0, 0, 0, 0.15);\n",
              "      filter: drop-shadow(0px 1px 2px rgba(0, 0, 0, 0.3));\n",
              "      fill: #FFFFFF;\n",
              "    }\n",
              "  </style>\n",
              "\n",
              "      <script>\n",
              "        const buttonEl =\n",
              "          document.querySelector('#df-f0c7ccfb-c4c4-4911-8b75-75d73cbe9e8e button.colab-df-convert');\n",
              "        buttonEl.style.display =\n",
              "          google.colab.kernel.accessAllowed ? 'block' : 'none';\n",
              "\n",
              "        async function convertToInteractive(key) {\n",
              "          const element = document.querySelector('#df-f0c7ccfb-c4c4-4911-8b75-75d73cbe9e8e');\n",
              "          const dataTable =\n",
              "            await google.colab.kernel.invokeFunction('convertToInteractive',\n",
              "                                                     [key], {});\n",
              "          if (!dataTable) return;\n",
              "\n",
              "          const docLinkHtml = 'Like what you see? Visit the ' +\n",
              "            '<a target=\"_blank\" href=https://colab.research.google.com/notebooks/data_table.ipynb>data table notebook</a>'\n",
              "            + ' to learn more about interactive tables.';\n",
              "          element.innerHTML = '';\n",
              "          dataTable['output_type'] = 'display_data';\n",
              "          await google.colab.output.renderOutput(dataTable, element);\n",
              "          const docLink = document.createElement('div');\n",
              "          docLink.innerHTML = docLinkHtml;\n",
              "          element.appendChild(docLink);\n",
              "        }\n",
              "      </script>\n",
              "    </div>\n",
              "  </div>\n",
              "  "
            ]
          },
          "metadata": {},
          "execution_count": 5
        }
      ]
    },
    {
      "cell_type": "markdown",
      "source": [],
      "metadata": {
        "id": "Ur3oUuMJLLPr"
      }
    },
    {
      "cell_type": "code",
      "source": [
        "len(df)"
      ],
      "metadata": {
        "colab": {
          "base_uri": "https://localhost:8080/"
        },
        "id": "kdQpPtlL96KS",
        "outputId": "5fcbb99f-3e85-443d-992d-29b9b6095622"
      },
      "execution_count": null,
      "outputs": [
        {
          "output_type": "execute_result",
          "data": {
            "text/plain": [
              "416809"
            ]
          },
          "metadata": {},
          "execution_count": 6
        }
      ]
    },
    {
      "cell_type": "code",
      "source": [
        "data= df[df[\"emotions\"].isin(df.emotions)]\n",
        "data = data.sample(n=400000);\n",
        "\n",
        "data.emotions.value_counts().plot.bar()"
      ],
      "metadata": {
        "colab": {
          "base_uri": "https://localhost:8080/",
          "height": 490
        },
        "id": "fWs94YAw985h",
        "outputId": "8216882c-901a-45a1-af9d-0408ad52aec1"
      },
      "execution_count": null,
      "outputs": [
        {
          "output_type": "execute_result",
          "data": {
            "text/plain": [
              "<Axes: >"
            ]
          },
          "metadata": {},
          "execution_count": 12
        },
        {
          "output_type": "display_data",
          "data": {
            "text/plain": [
              "<Figure size 640x480 with 1 Axes>"
            ],
            "image/png": "[encoded data removed]"
          },
          "metadata": {}
        }
      ]
    },
    {
      "cell_type": "code",
      "source": [
        "df.emotions.unique()"
      ],
      "metadata": {
        "colab": {
          "base_uri": "https://localhost:8080/"
        },
        "id": "K4TFGGlARV_u",
        "outputId": "cfd07f2e-2a22-4ee5-8c8c-70338c5414f8"
      },
      "execution_count": null,
      "outputs": [
        {
          "output_type": "execute_result",
          "data": {
            "text/plain": [
              "array(['sadness', 'joy', 'love', 'anger', 'fear', 'surprise'],\n",
              "      dtype=object)"
            ]
          },
          "metadata": {},
          "execution_count": 13
        }
      ]
    },
    {
      "cell_type": "code",
      "source": [
        "#Aula2 - Expressões regulares\n",
        "\n",
        "sem_html = re.sub(r'<.*?>', '', html)"
      ],
      "metadata": {
        "id": "2FK2r5z3ZZTT"
      },
      "execution_count": null,
      "outputs": []
    },
    {
      "cell_type": "code",
      "source": [
        "#Aula2 - pre_processamento_spacy\n",
        "\n",
        "def preprocessar_textos(textos_):\n",
        "\n",
        "  nlp = spacy.load('pt_core_news_sm')\n",
        "  \n",
        "  textos_processados = []\n",
        "\n",
        "  with tqdm(total=len(textos_), colour='green', desc='Processando') as pbar:\n",
        "    \n",
        "    for texto in textos_:\n",
        "      \n",
        "      texto = re.sub(r'@\\w+', '', texto)\n",
        "\n",
        "      doc = nlp(texto)\n",
        "\n",
        "      tokens = [t.lemma_.lower() for t in doc if t.pos_ != 'SPACE' and t.pos_ != 'PUNCT']\n",
        "\n",
        "      novo_texto = ' '.join(tokens)\n",
        "\n",
        "      textos_processados.append(novo_texto)\n",
        "\n",
        "      pbar.update(1)\n",
        "  \n",
        "  return textos_processados"
      ],
      "metadata": {
        "id": "r4vbJbHpdmXA"
      },
      "execution_count": null,
      "outputs": []
    },
    {
      "cell_type": "code",
      "source": [
        "#Aula3 - analise_sentimentos\n",
        "\n",
        "X_treinamento, X_teste, y_treinamento, y_teste = train_test_split(textos_vetorizados, labels, test_size=0.2, shuffle=True, random_state=0)\n",
        "\n",
        "    print('\\n\\nTreinamento:', len(X_treinamento), '-', len(y_treinamento))\n",
        "    print('Teste:', len(X_teste), '-', len(y_teste))\n",
        "\n",
        "    classificadores = {\n",
        "        'LogisticRegression': LogisticRegression(),\n",
        "        'MultinomialNB': MultinomialNB(),\n",
        "        'KNN': KNeighborsClassifier(3),\n",
        "        'SVM Linear': SVC(kernel='linear', C=0.025),\n",
        "        'SVC RBF': SVC(gamma=2, C=1),\n",
        "        'Decision Tree': DecisionTreeClassifier(max_depth=5),\n",
        "        'Random Forest': RandomForestClassifier(max_depth=5, n_estimators=10, max_features=1),\n",
        "        'MLP': MLPClassifier(alpha=1, max_iter=1000),  \n",
        "    }\n",
        "\n",
        "    print('\\n\\nAvaliação dos Classificadores\\n')\n",
        "\n",
        "    for nome, classificador in classificadores.items():\n",
        "\n",
        "        print('\\nNome:', nome)\n",
        "\n",
        "        classificador.fit(X_treinamento, y_treinamento)\n",
        "\n",
        "        y_pred = classificador.predict(X_teste)\n",
        "\n",
        "        report = classification_report(y_teste, y_pred)\n",
        "\n",
        "        print('  Classification Report:', report)\n",
        "\n",
        "        print('\\n  Exemplo teste:', X_teste[0])\n",
        "        print('  Label real:', y_teste[0])\n",
        "        print('  Label pred:', y_pred[0])"
      ],
      "metadata": {
        "id": "BG0MhcI6d1L0"
      },
      "execution_count": null,
      "outputs": []
    },
    {
      "cell_type": "code",
      "source": [
        "#Aula3 - representacao_bow\n",
        "\n",
        "count_vectorizer = CountVectorizer(binary=False, token_pattern=r'\\w+', ngram_range=(1, 1), \\\n",
        "                                   max_features=None)\n",
        "\n",
        "count_vectorizer.fit(frases)\n",
        "\n",
        "print(f'\\nVocabulário: {len(count_vectorizer.vocabulary_)} - {count_vectorizer.vocabulary_}')\n",
        "\n",
        "print(f'\\nFeatures: {count_vectorizer.get_feature_names_out()}')\n",
        "\n",
        "frases_vetorizadas = count_vectorizer.transform(frases).toarray()\n",
        "\n",
        "print(f'\\nFrases Vetorizadas: {frases_vetorizadas}')\n",
        "\n",
        "for f, f_v in zip(frases, frases_vetorizadas):\n",
        "  print(f'\\nFrase Original: {f}')\n",
        "  print(f'  Frase Vetorizada: {f_v}')"
      ],
      "metadata": {
        "id": "zcFtbsiUeK6G"
      },
      "execution_count": null,
      "outputs": []
    },
    {
      "cell_type": "code",
      "source": [
        "#Aula4 - word_embeddings\n",
        "\n",
        "corpus = []\n",
        "\n",
        "for i, example in enumerate(dataset['train'], start=1):\n",
        "  corpus.append(example['text'].lower().split())\n",
        "  if i == 1000:\n",
        "    break\n",
        "\n",
        "print(corpus[0])\n",
        "\n",
        "model_skip.wv.most_similar('movie')"
      ],
      "metadata": {
        "id": "jQ0PZrwQeT07"
      },
      "execution_count": null,
      "outputs": []
    }
  ]
}